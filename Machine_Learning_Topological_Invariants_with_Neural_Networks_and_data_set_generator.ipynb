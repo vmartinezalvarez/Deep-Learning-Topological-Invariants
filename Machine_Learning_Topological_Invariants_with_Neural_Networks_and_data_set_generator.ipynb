{
  "nbformat": 4,
  "nbformat_minor": 0,
  "metadata": {
    "colab": {
      "name": "Machine Learning Topological Invariants with Neural Networks and data_set_generator.ipynb",
      "version": "0.3.2",
      "provenance": [],
      "collapsed_sections": [],
      "include_colab_link": true
    },
    "kernelspec": {
      "name": "python3",
      "display_name": "Python 3"
    },
    "accelerator": "GPU"
  },
  "cells": [
    {
      "cell_type": "markdown",
      "metadata": {
        "id": "view-in-github",
        "colab_type": "text"
      },
      "source": [
        "<a href=\"https://colab.research.google.com/github/vmartinezalvarez/Deep-Learning-Topological-Invariants/blob/master/Machine_Learning_Topological_Invariants_with_Neural_Networks_and_data_set_generator.ipynb\" target=\"_parent\"><img src=\"https://colab.research.google.com/assets/colab-badge.svg\" alt=\"Open In Colab\"/></a>"
      ]
    },
    {
      "metadata": {
        "id": "i0vcWrcUYzuY",
        "colab_type": "text"
      },
      "cell_type": "markdown",
      "source": [
        "## Data Generation using a general Hamiltonian. "
      ]
    },
    {
      "metadata": {
        "id": "TyEQv2_SYzua",
        "colab_type": "code",
        "colab": {}
      },
      "cell_type": "code",
      "source": [
        "import numpy as np\n",
        "import matplotlib.pyplot as plt\n",
        "%matplotlib inline\n",
        "%config InlineBackend.figure_format = 'retina'"
      ],
      "execution_count": 0,
      "outputs": []
    },
    {
      "metadata": {
        "id": "KJDRKpmXbY6E",
        "colab_type": "text"
      },
      "cell_type": "markdown",
      "source": [
        "The Su-Schrieffer-Heeger (SSH) Hamiltonian is\n",
        "$$\n",
        "H_{SSH}(k)=(t+t'\\cos k)\\sigma_{x}+(t'\\sin k)\\sigma_{y}.\n",
        "$$\n",
        "This model hosts two topologically distinct gapped phases with winding\n",
        "number $w=0$ for $t>t'$ and $w=1$ for $t<t'$ , respectively. To\n",
        "examine whether the neural networks have the ability to learn the\n",
        "winding number in its most general form, we generate training data\n",
        "with the most general one-dimensional Hamiltonians with chiral symmetry\n",
        "$$\n",
        "H(k)=h_{x}(k)\\sigma_{x}+h_{y}(k)\\sigma_{y},\n",
        "$$\n",
        "where $h_{i}(k)$, $i=x,y$ are periodic functions in $k$ expanded\n",
        "by the Fourier series\n",
        "$$\n",
        "h_{i}(k)=\\sum_{n=0}^{4}[a_{i,n}\\cos(nk)+b_{i,n}\\sin(nk)]\n",
        "$$\n",
        "c is a cutoff that determines the highest possible winding number\n",
        "of the Hamiltonian, and is set to c = 4 in the following. $a_{i,n}$\n",
        "and $b_{i,n}$ are randomly sampled from a uniform distribution within $[-1, 1]$\n"
      ]
    },
    {
      "metadata": {
        "id": "d1uMj1b8Yzuh",
        "colab_type": "code",
        "colab": {}
      },
      "cell_type": "code",
      "source": [
        "numk = 33\n",
        "kk = np.linspace(0, 2*np.pi, num = numk )\n",
        "kk[-1] = kk[0]\n",
        "\n",
        "n_train = 100000\n",
        "n_test  = 20000 \n",
        "\n",
        "n_casos= int(n_train+n_test)\n",
        "\n",
        "data_G = np.zeros( (numk , n_casos*2) )\n",
        "\n",
        "\n",
        "count = 0\n",
        "\n",
        "for i in range(n_casos):\n",
        "    \n",
        "    # \"Hamiltonian parameters\"\n",
        "    max_c = 2\n",
        "\n",
        "    axx=(np.random.random( max_c+1 ) *2) -1\n",
        "    bxx=(np.random.random( max_c+1 ) *2) -1\n",
        "\n",
        "    ayy=(np.random.random( max_c+1 ) *2) -1\n",
        "    byy=(np.random.random( max_c+1 ) *2) -1\n",
        "    ##\n",
        "    \n",
        "    hx_list= []\n",
        "    hy_list= []\n",
        "\n",
        "    for k in (kk) :\n",
        "\n",
        "        hnx  = np.sum([ax*np.cos(i*k) + bx*np.sin(i*k) for i, (ax,bx) in enumerate (zip(axx,bxx))] )\n",
        "        hny  = np.sum([ay*np.cos(i*k) + by*np.sin(i*k) for i, (ay,by) in enumerate (zip(ayy,byy))] )\n",
        "\n",
        "        hx= hnx / np.sqrt(hnx*hnx+hny*hny) \n",
        "        hy= hny / np.sqrt(hnx*hnx+hny*hny) \n",
        "\n",
        "        hx_list.append(hx)\n",
        "        hy_list.append(hy)\n",
        "\n",
        "    data_G[:, count*2 ]  = hx_list\n",
        "    data_G[:, (count*2)+1] = hy_list\n",
        "\n",
        "    count= count+1\n",
        "    \n",
        "train =  data_G[:, : int(n_train*2) ]\n",
        "test  =  data_G[:, int(n_train*2) : ]\n",
        "np.savetxt(\"data_G_Train.txt\" , train  )\n",
        "np.savetxt(\"data_G_Test.txt\" , test )"
      ],
      "execution_count": 0,
      "outputs": []
    },
    {
      "metadata": {
        "id": "3pgapFbNYzuk",
        "colab_type": "code",
        "colab": {}
      },
      "cell_type": "code",
      "source": [
        "def isLeft(P0, P1, P2):\n",
        "    \"\"\"\n",
        "    isLeft(): tests if a point is Left|On|Right of an infinite line.\n",
        "    Input :  three points P0, P1, and P2\n",
        "    Return: >0 for P2 left of the line through P0 and P1\n",
        "            =0 for P2  on the line\n",
        "            <0 for P2  right of the line\n",
        "    \"\"\"\n",
        "    return ( (P1[0] - P0[0]) * (P2[1] - P0[1]) - (P2[0] -  P0[0]) * (P1[1] - P0[1]) )\n",
        "\n",
        "\n",
        "def wn_PnPoly( P, V ):\n",
        "    \"\"\"\n",
        "    wn_PnPoly(): winding number for a point in a polygon\n",
        "    Input:   P = a point, V = vertex points of a polygon V[n+1] with V[n]=V[0]\n",
        "    Return:  wn = the winding number (=0 only when P is outside)\n",
        "    \"\"\"   \n",
        "    wn = 0;    # the  winding number counter\n",
        "\n",
        "    # loop through all edges of the polygon\n",
        "    for i in range(len(V)-1):                         # edge from V[i] to  V[i+1]  for(int i=0; i<n; i++)\n",
        "        if ( V[i][1] <= P[1]):                        # start y <= P.y\n",
        "            if (V[i+1][1]  > P[1]):                   # an upward crossing\n",
        "                if (isLeft( V[i], V[i+1], P) > 0):    # P left of  edge\n",
        "                    wn += 1;                          # have  a valid up intersect\n",
        "        \n",
        "        else:                                         # start y > P.y (no test needed)\n",
        "            if (V[i+1][1]  <= P[1]):                  # a downward crossing\n",
        "                if (isLeft( V[i], V[i+1], P) < 0):    # P right of  edge\n",
        "                    wn -= 1;                          # have  a valid down intersect\n",
        "        \n",
        "    \n",
        "    return wn"
      ],
      "execution_count": 0,
      "outputs": []
    },
    {
      "metadata": {
        "id": "kJvz1VlSYzun",
        "colab_type": "code",
        "colab": {}
      },
      "cell_type": "code",
      "source": [
        "\"COMPUTE WINDING NUMBER\"\n",
        "\n",
        "def wn(data, fname, n_train) : \n",
        "    \n",
        "    list_wn= []\n",
        "    \n",
        "    n_casos = int( np.shape(data)[1]/ 2)\n",
        "    n_k = int(len (data) )\n",
        "    \n",
        "    print (n_casos, n_k )\n",
        "\n",
        "    for i in range(n_casos):\n",
        "        \n",
        "        hx = data[:,i*2]\n",
        "        hy = data[:,(i*2)+1]\n",
        "        V = np.array([hx,hy]).T\n",
        "        P = (0,0)\n",
        "        wn = wn_PnPoly( P, V ) \n",
        "        list_wn.append( wn)\n",
        "        \n",
        "\n",
        "    np.savetxt(fname, list_wn[:n_train], fmt='%10.1f')\n",
        "    np.savetxt(fname+\"_test\", list_wn[n_train:], fmt='%10.1f')"
      ],
      "execution_count": 0,
      "outputs": []
    },
    {
      "metadata": {
        "scrolled": true,
        "id": "ZV2fU09aYzuq",
        "colab_type": "code",
        "outputId": "b9a2909b-54f3-4717-e093-2527a0bcc397",
        "colab": {
          "base_uri": "https://localhost:8080/",
          "height": 34
        }
      },
      "cell_type": "code",
      "source": [
        "wn(data_G, \"list_wn_G.txt\", n_train)"
      ],
      "execution_count": 0,
      "outputs": [
        {
          "output_type": "stream",
          "text": [
            "120000 33\n"
          ],
          "name": "stdout"
        }
      ]
    },
    {
      "metadata": {
        "id": "25eqll0rYzuu",
        "colab_type": "code",
        "colab": {}
      },
      "cell_type": "code",
      "source": [
        "wn = np.loadtxt(\"list_wn_G.txt\")"
      ],
      "execution_count": 0,
      "outputs": []
    },
    {
      "metadata": {
        "id": "o6OzsDTQYzux",
        "colab_type": "code",
        "colab": {}
      },
      "cell_type": "code",
      "source": [
        "index0 = np.equal(0,wn)\n",
        "index1 = np.equal(1,wn)\n",
        "index2 = np.equal(-1,wn)\n",
        "index3 = np.equal(2,wn)\n",
        "index4 = np.equal(-2,wn)\n"
      ],
      "execution_count": 0,
      "outputs": []
    },
    {
      "metadata": {
        "id": "NPl8nsQAYzu0",
        "colab_type": "code",
        "outputId": "146fac3d-23dd-4e06-d230-dfba5dc78742",
        "colab": {
          "base_uri": "https://localhost:8080/",
          "height": 104
        }
      },
      "cell_type": "code",
      "source": [
        "print (\"0= \" + str( (np.sum(index0)/100000)*100 ))\n",
        "print (\"1= \" + str( (np.sum(index1)/100000)*100 ))\n",
        "print (\"-1= \" + str( (np.sum(index2)/100000)*100 ))\n",
        "print (\"2= \" + str( (np.sum(index3)/100000)*100 ))\n",
        "print (\"-2= \" + str( (np.sum(index4)/100000)*100 ))"
      ],
      "execution_count": 0,
      "outputs": [
        {
          "output_type": "stream",
          "text": [
            "0= 52.803\n",
            "1= 22.078999999999997\n",
            "-1= 22.338\n",
            "2= 1.349\n",
            "-2= 1.431\n"
          ],
          "name": "stdout"
        }
      ]
    },
    {
      "metadata": {
        "id": "GtySfcxsd4yz",
        "colab_type": "text"
      },
      "cell_type": "markdown",
      "source": [
        "# Convolutional Neural Network in Keras for Winding Number Calculations"
      ]
    },
    {
      "metadata": {
        "id": "W4elIPgFd4y_",
        "colab_type": "text"
      },
      "cell_type": "markdown",
      "source": [
        "#### Load dependencies"
      ]
    },
    {
      "metadata": {
        "id": "8pw5jBSad4zB",
        "colab_type": "code",
        "outputId": "956843f6-984d-4137-8e7b-6bdddeb4b7cb",
        "colab": {
          "base_uri": "https://localhost:8080/",
          "height": 34
        }
      },
      "cell_type": "code",
      "source": [
        "import numpy as np\n",
        "import keras\n",
        "from keras.datasets import mnist\n",
        "from keras.models import Sequential\n",
        "from keras.layers import Dense, Dropout \n",
        "from keras.layers import Flatten, MaxPooling2D, Conv2D\n",
        "from keras.layers.normalization import BatchNormalization \n",
        "from keras import regularizers \n",
        "from keras.optimizers import SGD"
      ],
      "execution_count": 0,
      "outputs": [
        {
          "output_type": "stream",
          "text": [
            "Using TensorFlow backend.\n"
          ],
          "name": "stderr"
        }
      ]
    },
    {
      "metadata": {
        "id": "YpI7mS7Ed4zJ",
        "colab_type": "text"
      },
      "cell_type": "markdown",
      "source": [
        "#### Load data"
      ]
    },
    {
      "metadata": {
        "id": "38b_Zboad4zO",
        "colab_type": "code",
        "outputId": "4a582cac-860e-45b8-afcb-f61b6e34b379",
        "colab": {
          "base_uri": "https://localhost:8080/",
          "height": 52
        }
      },
      "cell_type": "code",
      "source": [
        "### parameters\n",
        "numk = 33\n",
        "n_train = 100000\n",
        "n_test  =  20000\n",
        "n_casos = 120000\n",
        "\n",
        "\n",
        "### Training data ###\n",
        "X_train = np.zeros( (n_train, numk, 2 ) ) \n",
        "\n",
        "data_raw = np.loadtxt(\"data_G_Train.txt\")       \n",
        "\n",
        "for i in range(n_train) :\n",
        "    count = int(i*2)\n",
        "    X_train[i]= np.column_stack( ( data_raw[:,count] , data_raw[:,count+1] ) )\n",
        "    \n",
        "y_train= np.loadtxt(\"list_wn_G.txt\")\n",
        "\n",
        "\n",
        "### Test data\n",
        "\n",
        "\n",
        "X_test = np.zeros( (n_test, numk, 2 ) ) \n",
        "\n",
        "data_raww = np.loadtxt(\"data_G_Test.txt\")       \n",
        "\n",
        "for i in range(n_test) :\n",
        "    count = int(i*2)\n",
        "    X_test[i]= np.column_stack( ( data_raww[:,count] , data_raww[:,count+1] ) )\n",
        "    \n",
        "\n",
        "y_test= np.loadtxt(\"list_wn_G.txt_test\")\n",
        "\n",
        "\n",
        "print (X_test.shape)\n",
        "print (y_test)"
      ],
      "execution_count": 0,
      "outputs": [
        {
          "output_type": "stream",
          "text": [
            "(20000, 33, 2)\n",
            "[-1. -1. -1. ...  0.  0.  0.]\n"
          ],
          "name": "stdout"
        }
      ]
    },
    {
      "metadata": {
        "id": "kJJvrCQLd4zT",
        "colab_type": "code",
        "outputId": "77c551c6-c77a-49d9-dbcb-1037c8434377",
        "colab": {
          "base_uri": "https://localhost:8080/",
          "height": 34
        }
      },
      "cell_type": "code",
      "source": [
        "X_train.shape     # en nuestro caso sería (10^5, 33, 2)"
      ],
      "execution_count": 0,
      "outputs": [
        {
          "output_type": "execute_result",
          "data": {
            "text/plain": [
              "(100000, 33, 2)"
            ]
          },
          "metadata": {
            "tags": []
          },
          "execution_count": 23
        }
      ]
    },
    {
      "metadata": {
        "id": "LiVtbOzId4zX",
        "colab_type": "code",
        "outputId": "62707669-819a-452a-b9ff-8873cae3b17f",
        "colab": {
          "base_uri": "https://localhost:8080/",
          "height": 34
        }
      },
      "cell_type": "code",
      "source": [
        "y_train.shape     # en nuestro caso sería (10^5,)"
      ],
      "execution_count": 0,
      "outputs": [
        {
          "output_type": "execute_result",
          "data": {
            "text/plain": [
              "(100000,)"
            ]
          },
          "metadata": {
            "tags": []
          },
          "execution_count": 24
        }
      ]
    },
    {
      "metadata": {
        "id": "AOE8DCrRd4zb",
        "colab_type": "text"
      },
      "cell_type": "markdown",
      "source": [
        "#### Preprocess data"
      ]
    },
    {
      "metadata": {
        "id": "-QWVYd4hd4zb",
        "colab_type": "code",
        "outputId": "dde8b4b4-947f-4d98-f582-cd2892784000",
        "colab": {
          "base_uri": "https://localhost:8080/",
          "height": 52
        }
      },
      "cell_type": "code",
      "source": [
        "#X_train = X_train.reshape(60000, 784).astype('float32')\n",
        "#X_test = X_test.reshape(10000, 784).astype('float32')\n",
        "\n",
        "X_train = X_train.reshape(n_train, numk, 2, 1).astype('float32')\n",
        "#X_test = X_test.reshape(10000, 28, 28, 1).astype('float32')\n",
        "\n",
        "\n",
        "X_test = X_test.reshape(n_test, numk, 2, 1).astype('float32')\n",
        "print(X_train.shape)\n",
        "print(X_test.shape)\n"
      ],
      "execution_count": 0,
      "outputs": [
        {
          "output_type": "stream",
          "text": [
            "(100000, 33, 2, 1)\n",
            "(20000, 33, 2, 1)\n"
          ],
          "name": "stdout"
        }
      ]
    },
    {
      "metadata": {
        "id": "yFz8Nj1Wd4zm",
        "colab_type": "code",
        "colab": {}
      },
      "cell_type": "code",
      "source": [
        "model = Sequential()\n",
        "model.add(Conv2D(40, kernel_size=(2, 2), activation='relu', input_shape=(33, 2, 1)))\n",
        "#model.add(MaxPooling2D(pool_size=(2,2)))\n",
        "model.add(Conv2D(1, kernel_size=(1, 1), activation='relu'))\n",
        "model.add(Flatten())\n",
        "model.add(Dense(2, activation='relu'))\n",
        "model.add(Dense(1, activation='linear'))\n"
      ],
      "execution_count": 0,
      "outputs": []
    },
    {
      "metadata": {
        "id": "xUed1EHid4zo",
        "colab_type": "code",
        "outputId": "ce0bdaf0-8c9a-4509-f4c9-4196d9f3d48a",
        "colab": {
          "base_uri": "https://localhost:8080/",
          "height": 314
        }
      },
      "cell_type": "code",
      "source": [
        "model.summary()"
      ],
      "execution_count": 0,
      "outputs": [
        {
          "output_type": "stream",
          "text": [
            "_________________________________________________________________\n",
            "Layer (type)                 Output Shape              Param #   \n",
            "=================================================================\n",
            "conv2d_1 (Conv2D)            (None, 32, 1, 40)         200       \n",
            "_________________________________________________________________\n",
            "conv2d_2 (Conv2D)            (None, 32, 1, 1)          41        \n",
            "_________________________________________________________________\n",
            "flatten_1 (Flatten)          (None, 32)                0         \n",
            "_________________________________________________________________\n",
            "dense_1 (Dense)              (None, 2)                 66        \n",
            "_________________________________________________________________\n",
            "dense_2 (Dense)              (None, 1)                 3         \n",
            "=================================================================\n",
            "Total params: 310\n",
            "Trainable params: 310\n",
            "Non-trainable params: 0\n",
            "_________________________________________________________________\n"
          ],
          "name": "stdout"
        }
      ]
    },
    {
      "metadata": {
        "id": "ixcHDqlMd4zs",
        "colab_type": "text"
      },
      "cell_type": "markdown",
      "source": [
        "#### Configure model"
      ]
    },
    {
      "metadata": {
        "id": "hsbgQwKQd4zu",
        "colab_type": "code",
        "colab": {}
      },
      "cell_type": "code",
      "source": [
        "#model.compile(loss='categorical_crossentropy', optimizer=SGD(lr=0.1), metrics=['accuracy'])\n",
        "model.compile(loss='mean_squared_error',  optimizer='adam', metrics=['accuracy'])\n",
        "#model.compile(loss='categorical_crossentropy', optimizer='adam', metrics=['accuracy'])"
      ],
      "execution_count": 0,
      "outputs": []
    },
    {
      "metadata": {
        "id": "AUr4YP74d4zw",
        "colab_type": "text"
      },
      "cell_type": "markdown",
      "source": [
        "#### Train!"
      ]
    },
    {
      "metadata": {
        "id": "L3otPU6Bd4zz",
        "colab_type": "code",
        "outputId": "4e3a3953-3783-44a9-def8-2d4ba8b904b6",
        "colab": {
          "base_uri": "https://localhost:8080/",
          "height": 772
        }
      },
      "cell_type": "code",
      "source": [
        "model.fit(X_train, y_train, batch_size=128, epochs=20, verbose=1, validation_data=(X_test, y_test))"
      ],
      "execution_count": 0,
      "outputs": [
        {
          "output_type": "stream",
          "text": [
            "Train on 100000 samples, validate on 20000 samples\n",
            "Epoch 1/20\n",
            "100000/100000 [==============================] - 9s 93us/step - loss: 0.2397 - acc: 0.7424 - val_loss: 0.0929 - val_acc: 0.9356\n",
            "Epoch 2/20\n",
            "100000/100000 [==============================] - 5s 52us/step - loss: 0.0732 - acc: 0.9445 - val_loss: 0.0608 - val_acc: 0.9499\n",
            "Epoch 3/20\n",
            "100000/100000 [==============================] - 5s 53us/step - loss: 0.0547 - acc: 0.9544 - val_loss: 0.0490 - val_acc: 0.9577\n",
            "Epoch 4/20\n",
            "100000/100000 [==============================] - 5s 52us/step - loss: 0.0454 - acc: 0.9609 - val_loss: 0.0406 - val_acc: 0.9642\n",
            "Epoch 5/20\n",
            "100000/100000 [==============================] - 5s 52us/step - loss: 0.0395 - acc: 0.9639 - val_loss: 0.0420 - val_acc: 0.9581\n",
            "Epoch 6/20\n",
            "100000/100000 [==============================] - 5s 52us/step - loss: 0.0348 - acc: 0.9728 - val_loss: 0.0323 - val_acc: 0.9821\n",
            "Epoch 7/20\n",
            "100000/100000 [==============================] - 5s 52us/step - loss: 0.0311 - acc: 0.9814 - val_loss: 0.0487 - val_acc: 0.9708\n",
            "Epoch 8/20\n",
            "100000/100000 [==============================] - 5s 52us/step - loss: 0.0283 - acc: 0.9840 - val_loss: 0.0256 - val_acc: 0.9869\n",
            "Epoch 9/20\n",
            "100000/100000 [==============================] - 5s 52us/step - loss: 0.0261 - acc: 0.9854 - val_loss: 0.0252 - val_acc: 0.9876\n",
            "Epoch 10/20\n",
            "100000/100000 [==============================] - 5s 52us/step - loss: 0.0250 - acc: 0.9866 - val_loss: 0.0284 - val_acc: 0.9848\n",
            "Epoch 11/20\n",
            "100000/100000 [==============================] - 5s 52us/step - loss: 0.0236 - acc: 0.9873 - val_loss: 0.0240 - val_acc: 0.9845\n",
            "Epoch 12/20\n",
            "100000/100000 [==============================] - 5s 52us/step - loss: 0.0225 - acc: 0.9884 - val_loss: 0.0202 - val_acc: 0.9908\n",
            "Epoch 13/20\n",
            "100000/100000 [==============================] - 5s 52us/step - loss: 0.0213 - acc: 0.9889 - val_loss: 0.0362 - val_acc: 0.9805\n",
            "Epoch 14/20\n",
            "100000/100000 [==============================] - 5s 53us/step - loss: 0.0206 - acc: 0.9899 - val_loss: 0.0191 - val_acc: 0.9916\n",
            "Epoch 15/20\n",
            "100000/100000 [==============================] - 5s 51us/step - loss: 0.0197 - acc: 0.9901 - val_loss: 0.0177 - val_acc: 0.9923\n",
            "Epoch 16/20\n",
            "100000/100000 [==============================] - 5s 52us/step - loss: 0.0193 - acc: 0.9905 - val_loss: 0.0179 - val_acc: 0.9928\n",
            "Epoch 17/20\n",
            "100000/100000 [==============================] - 5s 52us/step - loss: 0.0187 - acc: 0.9909 - val_loss: 0.0259 - val_acc: 0.9872\n",
            "Epoch 18/20\n",
            "100000/100000 [==============================] - 5s 53us/step - loss: 0.0182 - acc: 0.9913 - val_loss: 0.0164 - val_acc: 0.9931\n",
            "Epoch 19/20\n",
            "100000/100000 [==============================] - 5s 54us/step - loss: 0.0170 - acc: 0.9920 - val_loss: 0.0186 - val_acc: 0.9918\n",
            "Epoch 20/20\n",
            "100000/100000 [==============================] - 5s 53us/step - loss: 0.0171 - acc: 0.9923 - val_loss: 0.0196 - val_acc: 0.9915\n"
          ],
          "name": "stdout"
        },
        {
          "output_type": "execute_result",
          "data": {
            "text/plain": [
              "<keras.callbacks.History at 0x7fde99595ac8>"
            ]
          },
          "metadata": {
            "tags": []
          },
          "execution_count": 29
        }
      ]
    },
    {
      "metadata": {
        "id": "RGgPsvw-d4z4",
        "colab_type": "code",
        "outputId": "9d936bcd-4767-4e4b-e5c0-810d32c2c1c8",
        "colab": {
          "base_uri": "https://localhost:8080/",
          "height": 52
        }
      },
      "cell_type": "code",
      "source": [
        "### DATOS TEST\n",
        "\n",
        "\n",
        "X_test = np.zeros( (n_test, numk, 2 ) ) ## Lista de Datos para entrenar, en el format que necesitamos\n",
        "\n",
        "data_raww = np.loadtxt(\"data_G_Test.txt\")       ## Lista de Datos sin formato\n",
        "\n",
        "for i in range(n_test) :\n",
        "    count = int(i*2)\n",
        "    X_test[i]= np.column_stack( ( data_raw[:,count] , data_raw[:,count+1] ) )\n",
        "    \n",
        "\n",
        "y_test= np.loadtxt(\"list_wn_G.txt_test\")\n",
        "\n",
        "X_test = X_test.reshape(n_test, numk, 2, 1).astype('float32')\n",
        "\n",
        "print (X_test.shape)\n",
        "print (y_test)"
      ],
      "execution_count": 0,
      "outputs": [
        {
          "output_type": "stream",
          "text": [
            "(20000, 33, 2, 1)\n",
            "[-1. -1. -1. ...  0.  0.  0.]\n"
          ],
          "name": "stdout"
        }
      ]
    },
    {
      "metadata": {
        "id": "ehEzOhK2d4z9",
        "colab_type": "code",
        "outputId": "4a062e8e-dd00-41ff-dc9b-42ca7c8d083c",
        "colab": {
          "base_uri": "https://localhost:8080/",
          "height": 52
        }
      },
      "cell_type": "code",
      "source": [
        "model.evaluate(X_test, y_test)"
      ],
      "execution_count": 0,
      "outputs": [
        {
          "output_type": "stream",
          "text": [
            "20000/20000 [==============================] - 1s 58us/step\n"
          ],
          "name": "stdout"
        },
        {
          "output_type": "execute_result",
          "data": {
            "text/plain": [
              "[1.0824656362056733, 0.37935]"
            ]
          },
          "metadata": {
            "tags": []
          },
          "execution_count": 31
        }
      ]
    }
  ]
}